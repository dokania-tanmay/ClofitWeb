{
 "cells": [
  {
   "cell_type": "code",
   "execution_count": 1,
   "id": "d2a2a4c2",
   "metadata": {},
   "outputs": [
    {
     "ename": "ModuleNotFoundError",
     "evalue": "No module named 'Image'",
     "output_type": "error",
     "traceback": [
      "\u001b[1;31m---------------------------------------------------------------------------\u001b[0m",
      "\u001b[1;31mModuleNotFoundError\u001b[0m                       Traceback (most recent call last)",
      "\u001b[1;32m<ipython-input-1-8b6248e127da>\u001b[0m in \u001b[0;36m<module>\u001b[1;34m\u001b[0m\n\u001b[0;32m      2\u001b[0m \u001b[1;32mimport\u001b[0m \u001b[0mtime\u001b[0m\u001b[1;33m\u001b[0m\u001b[1;33m\u001b[0m\u001b[0m\n\u001b[0;32m      3\u001b[0m \u001b[1;32mimport\u001b[0m \u001b[0mnumpy\u001b[0m \u001b[1;32mas\u001b[0m \u001b[0mnp\u001b[0m\u001b[1;33m\u001b[0m\u001b[1;33m\u001b[0m\u001b[0m\n\u001b[1;32m----> 4\u001b[1;33m \u001b[1;32mimport\u001b[0m \u001b[0mImage\u001b[0m\u001b[1;33m\u001b[0m\u001b[1;33m\u001b[0m\u001b[0m\n\u001b[0m\u001b[0;32m      5\u001b[0m \u001b[1;32mimport\u001b[0m \u001b[0mio\u001b[0m\u001b[1;33m\u001b[0m\u001b[1;33m\u001b[0m\u001b[0m\n\u001b[0;32m      6\u001b[0m \u001b[1;32mimport\u001b[0m \u001b[0mcv2\u001b[0m\u001b[1;33m\u001b[0m\u001b[1;33m\u001b[0m\u001b[0m\n",
      "\u001b[1;31mModuleNotFoundError\u001b[0m: No module named 'Image'"
     ]
    }
   ],
   "source": [
    "import ipywidgets as widgets\n",
    "import time\n",
    "import numpy as np\n",
    "from PIL import Image\n",
    "import io\n",
    "import cv2\n",
    "from ipywidgets import Button, Layout\n",
    "import matplotlib.pyplot as plt"
   ]
  },
  {
   "cell_type": "code",
   "execution_count": null,
   "id": "f8579b9c",
   "metadata": {},
   "outputs": [],
   "source": [
    "subject = widgets.FileUpload(\n",
    "    accept='image/jpeg',  # Accepted file extension e.g. '.txt', '.pdf', 'image/*', 'image/*,.pdf'\n",
    "    multiple=False,  # True to accept multiple files upload else False\n",
    "    layout=Layout(width='50%', height='40px', margin = '5px 25% 0px 25%'),\n",
    "    description='Upload Subject image here'\n",
    ")\n",
    "display(subject)\n",
    "\n",
    "cloth = widgets.FileUpload(\n",
    "    accept='image/jpeg',  # Accepted file extension e.g. '.txt', '.pdf', 'image/*', 'image/*,.pdf'\n",
    "    multiple=False,  # True to accept multiple files upload else False\n",
    "    \n",
    "    layout=Layout(width='50%', height='40px', margin = '0px 25% 5px 25%'),\n",
    "    description='Upload Cloth image here'\n",
    ")\n",
    "display(cloth)"
   ]
  },
  {
   "cell_type": "code",
   "execution_count": null,
   "id": "e2d47999",
   "metadata": {},
   "outputs": [],
   "source": [
    "# Main function which takes two arrays and gives an array as an output\n",
    "\n",
    "def manipulation(arr1, arr2):\n",
    "    \n",
    "    return (arr1/2+arr2/2).astype(int)"
   ]
  },
  {
   "cell_type": "code",
   "execution_count": null,
   "id": "a1302f74",
   "metadata": {},
   "outputs": [],
   "source": [
    "button = widgets.Button(description=\"Submit the Images\",layout=Layout(width='30%', height='80px', margin = '0% 35% 0% 35%', text='100px'))\n",
    "output = widgets.Output()\n",
    "\n",
    "display(button,output)\n",
    "\n",
    "def on_button_clicked(b):\n",
    "    with output:\n",
    "        \n",
    "        subjectFileName = 1\n",
    "        clothFileName = 1\n",
    "        for e in subject.value.keys():\n",
    "            subjectFileName = e\n",
    "    \n",
    "        for e in cloth.value.keys():\n",
    "            clothFileName = e\n",
    "    \n",
    "        if (subjectFileName==1):\n",
    "            print(\"Please upload image of the Person\")\n",
    "        \n",
    "        if (clothFileName == 1):\n",
    "            print(\"Please upload image of the cloth you want to try out\")\n",
    "            \n",
    "        if (subjectFileName==1) or (clothFileName == 1):\n",
    "            return\n",
    "        \n",
    "        subjectByte = subject.value[subjectFileName][\"content\"]\n",
    "        clothByte = cloth.value[clothFileName][\"content\"]\n",
    "        \n",
    "        subjectImage = np.array(Image.open(io.BytesIO(subjectByte)))\n",
    "        clothImage = np.array(Image.open(io.BytesIO(clothByte)))\n",
    "        \n",
    "        manipulatedImage = manipulation(subjectImage,clothImage)\n",
    "    \n",
    "        finalShow = np.concatenate((manipulatedImage, clothImage), 0)    \n",
    "        plt.imshow(manipulatedImage)\n",
    "        plt.axis('off')\n",
    "        plt.show()\n",
    "\n",
    "        \n",
    "        \n",
    "button.on_click(on_button_clicked)"
   ]
  },
  {
   "cell_type": "code",
   "execution_count": null,
   "id": "d480ed60",
   "metadata": {},
   "outputs": [],
   "source": []
  }
 ],
 "metadata": {
  "kernelspec": {
   "display_name": "Python 3",
   "language": "python",
   "name": "python3"
  },
  "language_info": {
   "codemirror_mode": {
    "name": "ipython",
    "version": 3
   },
   "file_extension": ".py",
   "mimetype": "text/x-python",
   "name": "python",
   "nbconvert_exporter": "python",
   "pygments_lexer": "ipython3",
   "version": "3.9.0"
  }
 },
 "nbformat": 4,
 "nbformat_minor": 5
}
