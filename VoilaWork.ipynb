{
 "cells": [
  {
   "cell_type": "code",
   "execution_count": 22,
   "id": "d2a2a4c2",
   "metadata": {},
   "outputs": [
    {
     "data": {
      "application/vnd.jupyter.widget-view+json": {
       "model_id": "a52aaa07d9b84b8f8693341310676a85",
       "version_major": 2,
       "version_minor": 0
      },
      "text/plain": [
       "FileUpload(value={}, accept='image/jpeg', description='Upload Subject image here', layout=Layout(height='40px'…"
      ]
     },
     "metadata": {},
     "output_type": "display_data"
    },
    {
     "data": {
      "application/vnd.jupyter.widget-view+json": {
       "model_id": "6528ff04b91e4039989a295b5012c536",
       "version_major": 2,
       "version_minor": 0
      },
      "text/plain": [
       "FileUpload(value={}, accept='image/jpeg', description='Upload Cloth image here', layout=Layout(height='40px', …"
      ]
     },
     "metadata": {},
     "output_type": "display_data"
    }
   ],
   "source": [
    "import ipywidgets as widgets\n",
    "import time\n",
    "import numpy as np\n",
    "from PIL import Image\n",
    "import io\n",
    "import cv2\n",
    "from ipywidgets import Button, Layout\n",
    "import matplotlib.pyplot as plt"
   ]
  },
  {
   "cell_type": "code",
   "execution_count": null,
   "id": "0e80c510",
   "metadata": {},
   "outputs": [],
   "source": [
    "subject = widgets.FileUpload(\n",
    "    accept='image/jpeg',  # Accepted file extension e.g. '.txt', '.pdf', 'image/*', 'image/*,.pdf'\n",
    "    multiple=False,  # True to accept multiple files upload else False\n",
    "    layout=Layout(width='50%', height='40px', margin = '5px 25% 0px 25%'),\n",
    "    description='Upload Subject image here'\n",
    ")\n",
    "display(subject)\n",
    "\n",
    "cloth = widgets.FileUpload(\n",
    "    accept='image/jpeg',  # Accepted file extension e.g. '.txt', '.pdf', 'image/*', 'image/*,.pdf'\n",
    "    multiple=False,  # True to accept multiple files upload else False\n",
    "    \n",
    "    layout=Layout(width='50%', height='40px', margin = '0px 25% 5px 25%'),\n",
    "    description='Upload Cloth image here'\n",
    ")\n",
    "display(cloth)"
   ]
  },
  {
   "cell_type": "code",
   "execution_count": 23,
   "id": "e2d47999",
   "metadata": {},
   "outputs": [],
   "source": [
    "# Main function which takes two arrays and gives an array as an output\n",
    "\n",
    "def manipulation(arr1, arr2):\n",
    "    \n",
    "    return (arr1/2+arr2/2).astype(int)"
   ]
  },
  {
   "cell_type": "code",
   "execution_count": 24,
   "id": "a1302f74",
   "metadata": {},
   "outputs": [
    {
     "data": {
      "application/vnd.jupyter.widget-view+json": {
       "model_id": "d57118451d384b44b249aa76e94c3fc5",
       "version_major": 2,
       "version_minor": 0
      },
      "text/plain": [
       "Button(description='Submit the Images', layout=Layout(height='80px', margin='0% 35% 0% 35%', width='30%'), sty…"
      ]
     },
     "metadata": {},
     "output_type": "display_data"
    },
    {
     "data": {
      "application/vnd.jupyter.widget-view+json": {
       "model_id": "176d923b30954fb29b9957419da8df7c",
       "version_major": 2,
       "version_minor": 0
      },
      "text/plain": [
       "Output()"
      ]
     },
     "metadata": {},
     "output_type": "display_data"
    }
   ],
   "source": [
    "button = widgets.Button(description=\"Submit the Images\",layout=Layout(width='30%', height='80px', margin = '0% 35% 0% 35%', text='100px'))\n",
    "output = widgets.Output()\n",
    "\n",
    "display(button,output)\n",
    "\n",
    "def on_button_clicked(b):\n",
    "    with output:\n",
    "        \n",
    "        subjectFileName = 1\n",
    "        clothFileName = 1\n",
    "        for e in subject.value.keys():\n",
    "            subjectFileName = e\n",
    "    \n",
    "        for e in cloth.value.keys():\n",
    "            clothFileName = e\n",
    "    \n",
    "        if (subjectFileName==1):\n",
    "            print(\"Please upload image of the Person\")\n",
    "        \n",
    "        if (clothFileName == 1):\n",
    "            print(\"Please upload image of the cloth you want to try out\")\n",
    "            \n",
    "        if (subjectFileName==1) or (clothFileName == 1):\n",
    "            return\n",
    "        \n",
    "        subjectByte = subject.value[subjectFileName][\"content\"]\n",
    "        clothByte = cloth.value[clothFileName][\"content\"]\n",
    "        \n",
    "        subjectImage = np.array(Image.open(io.BytesIO(subjectByte)))\n",
    "        clothImage = np.array(Image.open(io.BytesIO(clothByte)))\n",
    "        \n",
    "        manipulatedImage = manipulation(subjectImage,clothImage)\n",
    "    \n",
    "        finalShow = np.concatenate((manipulatedImage, clothImage), 0)    \n",
    "        plt.imshow(manipulatedImage)\n",
    "        plt.axis('off')\n",
    "        plt.show()\n",
    "\n",
    "        \n",
    "        \n",
    "button.on_click(on_button_clicked)"
   ]
  },
  {
   "cell_type": "code",
   "execution_count": null,
   "id": "d480ed60",
   "metadata": {},
   "outputs": [],
   "source": []
  }
 ],
 "metadata": {
  "kernelspec": {
   "display_name": "Python 3",
   "language": "python",
   "name": "python3"
  },
  "language_info": {
   "codemirror_mode": {
    "name": "ipython",
    "version": 3
   },
   "file_extension": ".py",
   "mimetype": "text/x-python",
   "name": "python",
   "nbconvert_exporter": "python",
   "pygments_lexer": "ipython3",
   "version": "3.9.0"
  }
 },
 "nbformat": 4,
 "nbformat_minor": 5
}
