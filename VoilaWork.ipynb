{
 "cells": [
  {
   "cell_type": "code",
   "execution_count": 1,
   "id": "d2a2a4c2",
   "metadata": {},
   "outputs": [],
   "source": [
    "import ipywidgets as widgets"
   ]
  },
  {
   "cell_type": "code",
   "execution_count": null,
   "id": "13cf8f74",
   "metadata": {},
   "outputs": [],
   "source": [
    "import numpy as np"
   ]
  },
  {
   "cell_type": "code",
   "execution_count": null,
   "id": "093e578a",
   "metadata": {},
   "outputs": [],
   "source": [
    "from PIL import Image"
   ]
  },
  {
   "cell_type": "code",
   "execution_count": null,
   "id": "c9355093",
   "metadata": {},
   "outputs": [],
   "source": [
    "from ipywidgets import Button, Layout"
   ]
  },
  {
   "cell_type": "code",
   "execution_count": null,
   "id": "a6ee25c2",
   "metadata": {},
   "outputs": [],
   "source": [
    "import matplotlib.pyplot as plt"
   ]
  },
  {
   "cell_type": "code",
   "execution_count": 2,
   "id": "538d0c77",
   "metadata": {},
   "outputs": [
    {
     "data": {
      "application/vnd.jupyter.widget-view+json": {
       "model_id": "1c244e6904bc4d0ba181a63967eb092e",
       "version_major": 2,
       "version_minor": 0
      },
      "text/plain": [
       "FileUpload(value={}, accept='image/jpeg', description='Upload Subject image here', layout=Layout(height='40px'…"
      ]
     },
     "metadata": {},
     "output_type": "display_data"
    },
    {
     "data": {
      "application/vnd.jupyter.widget-view+json": {
       "model_id": "877b12d293c447118a54c003f9c2040c",
       "version_major": 2,
       "version_minor": 0
      },
      "text/plain": [
       "FileUpload(value={}, accept='image/jpeg', description='Upload Cloth image here', layout=Layout(height='40px', …"
      ]
     },
     "metadata": {},
     "output_type": "display_data"
    }
   ],
   "source": [
    "subject = widgets.FileUpload(\n",
    "    accept='image/jpeg',  # Accepted file extension e.g. '.txt', '.pdf', 'image/*', 'image/*,.pdf'\n",
    "    multiple=False,  # True to accept multiple files upload else False\n",
    "    layout=Layout(width='50%', height='40px', margin = '5px 25% 0px 25%'),\n",
    "    description='Upload Subject image here'\n",
    ")\n",
    "display(subject)\n",
    "\n",
    "cloth = widgets.FileUpload(\n",
    "    accept='image/jpeg',  # Accepted file extension e.g. '.txt', '.pdf', 'image/*', 'image/*,.pdf'\n",
    "    multiple=False,  # True to accept multiple files upload else False\n",
    "    \n",
    "    layout=Layout(width='50%', height='40px', margin = '0px 25% 5px 25%'),\n",
    "    description='Upload Cloth image here'\n",
    ")\n",
    "display(cloth)"
   ]
  },
  {
   "cell_type": "code",
   "execution_count": 3,
   "id": "e2d47999",
   "metadata": {},
   "outputs": [],
   "source": [
    "# Main function which takes two arrays and gives an array as an output\n",
    "\n",
    "def manipulation(arr1, arr2):\n",
    "    \n",
    "    return (arr1/2+arr2/2).astype(int)"
   ]
  },
  {
   "cell_type": "code",
   "execution_count": 4,
   "id": "a1302f74",
   "metadata": {},
   "outputs": [
    {
     "data": {
      "application/vnd.jupyter.widget-view+json": {
       "model_id": "72a639802cf045bc98466a472d6cfaa8",
       "version_major": 2,
       "version_minor": 0
      },
      "text/plain": [
       "Button(description='Submit the Images', layout=Layout(height='80px', margin='0% 35% 0% 35%', width='30%'), sty…"
      ]
     },
     "metadata": {},
     "output_type": "display_data"
    },
    {
     "data": {
      "application/vnd.jupyter.widget-view+json": {
       "model_id": "b02aec10db3c4627849e466b80f58767",
       "version_major": 2,
       "version_minor": 0
      },
      "text/plain": [
       "Output()"
      ]
     },
     "metadata": {},
     "output_type": "display_data"
    }
   ],
   "source": [
    "button = widgets.Button(description=\"Submit the Images\",layout=Layout(width='30%', height='80px', margin = '0% 35% 0% 35%', text='100px'))\n",
    "output = widgets.Output()\n",
    "\n",
    "display(button,output)\n",
    "\n",
    "def on_button_clicked(b):\n",
    "    with output:\n",
    "        \n",
    "        subjectFileName = 1\n",
    "        clothFileName = 1\n",
    "        for e in subject.value.keys():\n",
    "            subjectFileName = e\n",
    "    \n",
    "        for e in cloth.value.keys():\n",
    "            clothFileName = e\n",
    "    \n",
    "        if (subjectFileName==1):\n",
    "            print(\"Please upload image of the Person\")\n",
    "        \n",
    "        if (clothFileName == 1):\n",
    "            print(\"Please upload image of the cloth you want to try out\")\n",
    "            \n",
    "        if (subjectFileName==1) or (clothFileName == 1):\n",
    "            return\n",
    "        \n",
    "        subjectByte = subject.value[subjectFileName][\"content\"]\n",
    "        clothByte = cloth.value[clothFileName][\"content\"]\n",
    "        \n",
    "        subjectImage = np.array(Image.open(io.BytesIO(subjectByte)))\n",
    "        clothImage = np.array(Image.open(io.BytesIO(clothByte)))\n",
    "        \n",
    "        manipulatedImage = manipulation(subjectImage,clothImage)\n",
    "    \n",
    "        finalShow = np.concatenate((manipulatedImage, clothImage), 0)    \n",
    "        plt.imshow(manipulatedImage)\n",
    "        plt.axis('off')\n",
    "        plt.show()\n",
    "\n",
    "        \n",
    "        \n",
    "button.on_click(on_button_clicked)"
   ]
  },
  {
   "cell_type": "code",
   "execution_count": null,
   "id": "d480ed60",
   "metadata": {},
   "outputs": [],
   "source": []
  }
 ],
 "metadata": {
  "kernelspec": {
   "display_name": "Python 3",
   "language": "python",
   "name": "python3"
  },
  "language_info": {
   "codemirror_mode": {
    "name": "ipython",
    "version": 3
   },
   "file_extension": ".py",
   "mimetype": "text/x-python",
   "name": "python",
   "nbconvert_exporter": "python",
   "pygments_lexer": "ipython3",
   "version": "3.9.0"
  }
 },
 "nbformat": 4,
 "nbformat_minor": 5
}
